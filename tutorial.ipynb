{
 "cells": [
  {
   "cell_type": "markdown",
   "id": "15a90de5-8d0d-4026-950e-1dc8262b38e6",
   "metadata": {},
   "source": [
    "# Python Basics Tutorial"
   ]
  },
  {
   "cell_type": "markdown",
   "id": "1bf637e9-287b-4c7c-b723-671d0604a42d",
   "metadata": {},
   "source": [
    "## 1. **Introduction to Python Syntax**\n",
    "\n",
    "Python is known for its simplicity and readability. Below are some basic concepts:"
   ]
  },
  {
   "cell_type": "markdown",
   "id": "781332b0-bb19-411d-9963-c5dd2273e53b",
   "metadata": {},
   "source": [
    "**Printing Output**"
   ]
  },
  {
   "cell_type": "code",
   "execution_count": 1,
   "id": "f84675f5-4d19-498d-baa6-a7d291286925",
   "metadata": {},
   "outputs": [
    {
     "name": "stdout",
     "output_type": "stream",
     "text": [
      "Hello World\n"
     ]
    }
   ],
   "source": [
    "print(\"Hello World\")"
   ]
  },
  {
   "cell_type": "markdown",
   "id": "db343fb3-0dad-4e6c-927e-895a82d6f6a2",
   "metadata": {},
   "source": [
    "**Variables and Data Types**"
   ]
  },
  {
   "cell_type": "code",
   "execution_count": 2,
   "id": "013b05ba-858c-41f2-9dbf-cc2266db803d",
   "metadata": {},
   "outputs": [],
   "source": [
    "name = \"Alice\"\n",
    "\n",
    "# Integers\n",
    "age = 25\n",
    "\n",
    "# Floats\n",
    "height = 5.9\n",
    "\n",
    "# Booleans\n",
    "is_student = False"
   ]
  },
  {
   "cell_type": "markdown",
   "id": "93bef8a9-50fe-48fe-a040-1e7261fb18f0",
   "metadata": {},
   "source": [
    "**Indentation**\n",
    "\n",
    "* Indentation replaces curly braces `{}` or `end` statements."
   ]
  },
  {
   "cell_type": "code",
   "execution_count": 3,
   "id": "902a4f49-f459-488b-82de-c4003df2f5bf",
   "metadata": {},
   "outputs": [
    {
     "name": "stdout",
     "output_type": "stream",
     "text": [
      "Adult\n"
     ]
    }
   ],
   "source": [
    "if age > 18:\n",
    "    print(\"Adult\")"
   ]
  },
  {
   "cell_type": "markdown",
   "id": "016d9bcf-7341-471e-a226-92e300ba6ca3",
   "metadata": {},
   "source": [
    "## 2. **Control Flow**"
   ]
  },
  {
   "cell_type": "markdown",
   "id": "86be7cfe-a84d-4d18-b8c8-5006f45b31c6",
   "metadata": {},
   "source": [
    "**Conditional Statements**"
   ]
  },
  {
   "cell_type": "code",
   "execution_count": 4,
   "id": "f38f8f6b-e892-4b5b-8c54-af7ced52ad78",
   "metadata": {},
   "outputs": [
    {
     "name": "stdout",
     "output_type": "stream",
     "text": [
      "Adult\n"
     ]
    }
   ],
   "source": [
    "if age < 18:\n",
    "    print(\"Minor\")\n",
    "elif age == 18:\n",
    "    print(\"Exactly 18!\")\n",
    "else:\n",
    "    print(\"Adult\")"
   ]
  },
  {
   "cell_type": "markdown",
   "id": "b1780b0b-0bd5-4a09-9651-9e2662341de3",
   "metadata": {},
   "source": [
    "**Loops**"
   ]
  },
  {
   "cell_type": "code",
   "execution_count": 5,
   "id": "2df906a3-26b9-4000-a335-dc30e54b117d",
   "metadata": {},
   "outputs": [
    {
     "name": "stdout",
     "output_type": "stream",
     "text": [
      "0\n",
      "1\n",
      "2\n",
      "3\n",
      "4\n",
      "0\n",
      "1\n",
      "2\n",
      "3\n",
      "4\n"
     ]
    }
   ],
   "source": [
    "for i in range(5):\n",
    "    print(i)\n",
    "\n",
    "# While loop\n",
    "count = 0\n",
    "while count < 5:\n",
    "    print(count)\n",
    "    count += 1"
   ]
  },
  {
   "cell_type": "markdown",
   "id": "41764016-a544-4c9f-a6cf-95b6ef94048d",
   "metadata": {},
   "source": [
    "## 3. **Functions**"
   ]
  },
  {
   "cell_type": "code",
   "execution_count": 7,
   "id": "42669de9-c27b-48e4-adae-d98af5f1ddc4",
   "metadata": {},
   "outputs": [
    {
     "name": "stdout",
     "output_type": "stream",
     "text": [
      "Hello, Alice!\n"
     ]
    }
   ],
   "source": [
    "def greet(name):\n",
    "    return f\"Hello, {name}!\"\n",
    "\n",
    "print(greet(\"Alice\"))"
   ]
  },
  {
   "cell_type": "markdown",
   "id": "b491c200-6071-42e6-a00f-556c2994382f",
   "metadata": {},
   "source": [
    "## 4. **Object-Oriented Programming (OOP)**\n",
    "\n",
    "Python supports OOP concepts like classes, objects, inheritance, and encapsulation."
   ]
  },
  {
   "cell_type": "markdown",
   "id": "65bd44ae-2b78-4ea8-ad92-86036cf017a8",
   "metadata": {},
   "source": [
    "**Defining a Class**"
   ]
  },
  {
   "cell_type": "code",
   "execution_count": 8,
   "id": "59075058-21ec-489d-951c-89a7f8d32672",
   "metadata": {},
   "outputs": [
    {
     "name": "stdout",
     "output_type": "stream",
     "text": [
      "Hi, I am Alice and I am 25 years old.\n"
     ]
    }
   ],
   "source": [
    "class Person:\n",
    "    def __init__(self, name, age):\n",
    "        self.name = name\n",
    "        self.age = age\n",
    "\n",
    "    def greet(self):\n",
    "        return f\"Hi, I am {self.name} and I am {self.age} years old.\"\n",
    "\n",
    "# Create an instance\n",
    "person1 = Person(\"Alice\", 25)\n",
    "print(person1.greet())"
   ]
  },
  {
   "cell_type": "markdown",
   "id": "e355397c-4a79-4d66-9e1b-36593149f141",
   "metadata": {},
   "source": [
    "**Inheritance**"
   ]
  },
  {
   "cell_type": "code",
   "execution_count": 9,
   "id": "b038a5e9-00db-4186-9ac7-f47a2d4ae23c",
   "metadata": {},
   "outputs": [
    {
     "name": "stdout",
     "output_type": "stream",
     "text": [
      "Bob is in grade A.\n"
     ]
    }
   ],
   "source": [
    "class Student(Person):\n",
    "    def __init__(self, name, age, grade):\n",
    "        super().__init__(name, age)\n",
    "        self.grade = grade\n",
    "\n",
    "    def show_grade(self):\n",
    "        return f\"{self.name} is in grade {self.grade}.\"\n",
    "\n",
    "student1 = Student(\"Bob\", 20, \"A\")\n",
    "print(student1.show_grade())"
   ]
  },
  {
   "cell_type": "markdown",
   "id": "ed4b9b13-baf8-42c4-b1b4-8d3bcc0fcd4b",
   "metadata": {},
   "source": [
    "## 5. **Modules and Libraries**\n",
    "\n",
    "* Use `import` to include libraries or your custom modules."
   ]
  },
  {
   "cell_type": "code",
   "execution_count": 10,
   "id": "39c5ca2c-252d-4cd4-8fe0-34e02c4b7bfd",
   "metadata": {},
   "outputs": [
    {
     "name": "stdout",
     "output_type": "stream",
     "text": [
      "4.0\n"
     ]
    }
   ],
   "source": [
    "import math\n",
    "\n",
    "print(math.sqrt(16))"
   ]
  },
  {
   "cell_type": "markdown",
   "id": "1d13f7a8-6985-47fb-8fff-7affe037cca6",
   "metadata": {},
   "source": [
    "## 6. **Error Handling**"
   ]
  },
  {
   "cell_type": "code",
   "execution_count": 11,
   "id": "62af9ced-c2a6-4e0c-aeff-cd8e3686246d",
   "metadata": {},
   "outputs": [
    {
     "name": "stdout",
     "output_type": "stream",
     "text": [
      "Cannot divide by zero!\n",
      "Execution complete.\n"
     ]
    }
   ],
   "source": [
    "try:\n",
    "    result = 10 / 0\n",
    "except ZeroDivisionError:\n",
    "    print(\"Cannot divide by zero!\")\n",
    "finally:\n",
    "    print(\"Execution complete.\")"
   ]
  },
  {
   "cell_type": "markdown",
   "id": "ddb67354-fb56-4e18-9191-d9649c6973ae",
   "metadata": {},
   "source": [
    "\n",
    "\n",
    "**[Start the Tutorial](./start.ipynb)**"
   ]
  }
 ],
 "metadata": {
  "kernelspec": {
   "display_name": "Python 3 (ipykernel)",
   "language": "python",
   "name": "python3"
  },
  "language_info": {
   "codemirror_mode": {
    "name": "ipython",
    "version": 3
   },
   "file_extension": ".py",
   "mimetype": "text/x-python",
   "name": "python",
   "nbconvert_exporter": "python",
   "pygments_lexer": "ipython3",
   "version": "3.12.9"
  }
 },
 "nbformat": 4,
 "nbformat_minor": 5
}
