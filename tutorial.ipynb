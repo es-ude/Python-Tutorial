{
 "cells": [
  {
   "cell_type": "code",
   "execution_count": 1,
   "id": "f623b98c-3bd2-432b-b688-39ab4df89661",
   "metadata": {
    "jupyter": {
     "source_hidden": true
    }
   },
   "outputs": [],
   "source": [
    "# required for Jupyter Notebooks to include local Modules \n",
    "%load_ext autoreload\n",
    "%autoreload 2\n",
    "\n",
    "import os\n",
    "import sys\n",
    "module_path = os.path.abspath(os.path.join(\"src\")) # or the path to your source code\n",
    "sys.path.append(module_path)"
   ]
  },
  {
   "cell_type": "markdown",
   "id": "15a90de5-8d0d-4026-950e-1dc8262b38e6",
   "metadata": {},
   "source": [
    "# Python Tutorial"
   ]
  },
  {
   "cell_type": "markdown",
   "id": "1bf637e9-287b-4c7c-b723-671d0604a42d",
   "metadata": {},
   "source": [
    "## 1. **Grundlagen Basics**\n",
    "\n",
    "Python ist für seine einfache Nutzbarkeit bekannt. Im Nachfolgenden werden einigie grundlegende Konzepte erläutert.\n",
    "\n",
    "_Python is known for its simplicity and readability. Below are some basic concepts_"
   ]
  },
  {
   "cell_type": "markdown",
   "id": "93bef8a9-50fe-48fe-a040-1e7261fb18f0",
   "metadata": {},
   "source": [
    "**Einrückung**\n",
    "- Einrückung ersetzt in Python geschweifte Klammern `{}` oder andere Gruppierungsmerkmale für Statements\n",
    "\n",
    "**_Indentation_**\n",
    " - _Indentation replaces curly brackets `{}` or other grouping features for statements in Python_"
   ]
  },
  {
   "cell_type": "code",
   "execution_count": 2,
   "id": "902a4f49-f459-488b-82de-c4003df2f5bf",
   "metadata": {
    "scrolled": true
   },
   "outputs": [
    {
     "name": "stdout",
     "output_type": "stream",
     "text": [
      "Adult\n"
     ]
    }
   ],
   "source": [
    "if True:\n",
    "    print(\"Adult\")"
   ]
  },
  {
   "cell_type": "markdown",
   "id": "781332b0-bb19-411d-9963-c5dd2273e53b",
   "metadata": {},
   "source": [
    "**Ausgabe in das Terminal**  \n",
    "**_Print to Terminal_**"
   ]
  },
  {
   "cell_type": "code",
   "execution_count": 3,
   "id": "f84675f5-4d19-498d-baa6-a7d291286925",
   "metadata": {},
   "outputs": [
    {
     "name": "stdout",
     "output_type": "stream",
     "text": [
      "Hello World\n"
     ]
    }
   ],
   "source": [
    "print(\"Hello World\")"
   ]
  },
  {
   "cell_type": "markdown",
   "id": "db343fb3-0dad-4e6c-927e-895a82d6f6a2",
   "metadata": {},
   "source": [
    "**Variablen**  \n",
    "**_Variables_**"
   ]
  },
  {
   "cell_type": "code",
   "execution_count": 4,
   "id": "013b05ba-858c-41f2-9dbf-cc2266db803d",
   "metadata": {},
   "outputs": [],
   "source": [
    "# Strings\n",
    "name = \"Alice\"\n",
    "\n",
    "# Integers\n",
    "age = 25\n",
    "\n",
    "# Floats\n",
    "height = 5.9\n",
    "\n",
    "# Booleans\n",
    "is_student = False"
   ]
  },
  {
   "cell_type": "markdown",
   "id": "f56137cb-1bef-460e-9066-591cdf70b651",
   "metadata": {},
   "source": [
    "**Listen**  \n",
    "- Listen werden in Python durch eckige Klammern `[]` kenntlich gemacht\n",
    "- Die Indexierung startet bei 0\n",
    "- Elemente können einzeln abgerufen werden oder in Bereichen\n",
    "- Ungeordnete Liste, welche änderbar ist und Duplikate enthalten kann\n",
    "\n",
    "**_Lists_**\n",
    "- _Lists are identified in Python by square brackets `[]`_\n",
    "- _Indexing starts at 0_\n",
    "- _Elements can be called up individually or in ranges_\n",
    "- _Unordered list, which can be changed and may contain duplicates_"
   ]
  },
  {
   "cell_type": "code",
   "execution_count": 5,
   "id": "96f29087-e55f-43a4-b059-6647a29b0394",
   "metadata": {},
   "outputs": [
    {
     "name": "stdout",
     "output_type": "stream",
     "text": [
      "3\n",
      "World\n",
      "['Hello', 'World']\n",
      "Hello\n",
      "World\n",
      "!\n"
     ]
    }
   ],
   "source": [
    "# leere Liste (empty list)\n",
    "list1 = []\n",
    "\n",
    "# Anfügen eines einzelnen Elements (append single elment)\n",
    "list1.append(\"Hello\")\n",
    "\n",
    "# Anfügen mehrere Elemente (append multiple elements)\n",
    "list1 += [\"World\", \"!\"]\n",
    "\n",
    "# Länge der Liste (list length)\n",
    "print(len(list1))\n",
    "\n",
    "# Abruf des 2. Elements (get 2. element)\n",
    "print(list1[1])\n",
    "\n",
    "# Abruf der beiden ersten Elemente (get the first two elements)\n",
    "# End Index ist ausgenommen (end index excluded)\n",
    "print(list1[0:2])\n",
    "\n",
    "# Iterieren über die Liste (iterate over list)\n",
    "for value in list1:\n",
    "    print(value)"
   ]
  },
  {
   "cell_type": "markdown",
   "id": "da6e2614-a731-4a9e-a1ea-51bc249a5f2d",
   "metadata": {},
   "source": [
    "**Wörterbücher**\n",
    "- Wörterbücher werden in Python durch geschweifte Klammern `{}` kenntlich gemacht\n",
    "- Der Typ des Schlüssels muss im gesamten Wörterbuch gleich sein\n",
    "- Geordnete Liste, welche änderbar aber ist und keine Duplikate zulässt\n",
    "\n",
    "**_Dictionaries_**\n",
    "- _Dictionaries are identified in Python by curly brackets `{}`_\n",
    "- _The type of the key must be the same in the entire dictionary_\n",
    "- _Ordered list, which is changeable and does not allow duplicates_"
   ]
  },
  {
   "cell_type": "code",
   "execution_count": 6,
   "id": "c1ddb540-1070-425c-a4f2-efeeb9753604",
   "metadata": {},
   "outputs": [
    {
     "name": "stdout",
     "output_type": "stream",
     "text": [
      "3\n",
      "World\n",
      "key1: Hello\n",
      "key2: World\n",
      "key3: !\n"
     ]
    }
   ],
   "source": [
    "# leeres Wörterbuch (empty dictionary)\n",
    "dict1 = {}\n",
    "\n",
    "# Anfügen/Ändern eines einzelnen Elements (append/update single elment)\n",
    "dict1[\"key1\"] = \"Hello\"\n",
    "\n",
    "# Anfügen mehrere Elemente (append/update multiple elements)\n",
    "dict1.update({\"key2\": \"World\", \"key3\": \"!\"})\n",
    "\n",
    "# Länge des Wörterbuches (dictionary length)\n",
    "print(len(dict1))\n",
    "\n",
    "# Abruf eines Elements (get element)\n",
    "print(dict1[\"key2\"])\n",
    "\n",
    "# Iterieren über das Wörterbuch (iterate over dictionary)\n",
    "for key,value in dict1.items():\n",
    "    print(key + \": \" + value)"
   ]
  },
  {
   "cell_type": "markdown",
   "id": "e0663753-d73b-43db-a792-aed0a57f395d",
   "metadata": {},
   "source": [
    "**Tupel**\n",
    "- Tupel werden in Python durch runde Klammern `()` kenntlich gemacht\n",
    "- Geordnete Liste, welche nicht änderbar ist und Duplikate zulässt\n",
    "\n",
    "**_Tuple_**\n",
    "- _Tuples are identified in Python by round brackets `()`._\n",
    "- _Ordered list, which is not changeable and allows duplicates_"
   ]
  },
  {
   "cell_type": "code",
   "execution_count": 7,
   "id": "0b7e9bac-2b97-431a-913c-cae8ddc383af",
   "metadata": {},
   "outputs": [
    {
     "name": "stdout",
     "output_type": "stream",
     "text": [
      "3\n",
      "World\n",
      "Hello\n",
      "World\n",
      "!\n"
     ]
    }
   ],
   "source": [
    "# leeres Tupel (empty tuple)\n",
    "tup1 = ()\n",
    "\n",
    "# Tupel mit Elementen (tuple with elements)\n",
    "tup1 = (\"Hello\", \"World\", \"!\")\n",
    "\n",
    "# Länge des Tupels (tuple length)\n",
    "print(len(tup1))\n",
    "\n",
    "# Abruf eines Elements (get element)\n",
    "print(tup1[1])\n",
    "\n",
    "# Iterieren über das Wörterbuch (iterate over dictionary)\n",
    "for value in tup1:\n",
    "    print(value)"
   ]
  },
  {
   "cell_type": "markdown",
   "id": "016d9bcf-7341-471e-a226-92e300ba6ca3",
   "metadata": {},
   "source": [
    "## 2. **Kontrollfluss** **_Control Flow_**"
   ]
  },
  {
   "cell_type": "markdown",
   "id": "86be7cfe-a84d-4d18-b8c8-5006f45b31c6",
   "metadata": {},
   "source": [
    "**Bedingte Statements**  \n",
    "**_Conditional Statements_**"
   ]
  },
  {
   "cell_type": "code",
   "execution_count": 8,
   "id": "f38f8f6b-e892-4b5b-8c54-af7ced52ad78",
   "metadata": {},
   "outputs": [
    {
     "name": "stdout",
     "output_type": "stream",
     "text": [
      "Adult\n"
     ]
    }
   ],
   "source": [
    "if age < 18:\n",
    "    print(\"Minor\")\n",
    "\n",
    "# else if\n",
    "elif age == 18:\n",
    "    print(\"Exactly 18!\")\n",
    "\n",
    "else:\n",
    "    print(\"Adult\")"
   ]
  },
  {
   "cell_type": "markdown",
   "id": "b1780b0b-0bd5-4a09-9651-9e2662341de3",
   "metadata": {},
   "source": [
    "**Schleifen**  \n",
    "**_Loops_**"
   ]
  },
  {
   "cell_type": "code",
   "execution_count": 9,
   "id": "2df906a3-26b9-4000-a335-dc30e54b117d",
   "metadata": {},
   "outputs": [
    {
     "name": "stdout",
     "output_type": "stream",
     "text": [
      "0\n",
      "1\n",
      "2\n",
      "3\n",
      "4\n",
      "0\n",
      "1\n",
      "2\n",
      "3\n",
      "4\n"
     ]
    }
   ],
   "source": [
    "# For loop\n",
    "for i in range(5):\n",
    "    print(i)\n",
    "\n",
    "# While loop\n",
    "count = 0\n",
    "while count < 5:\n",
    "    print(count)\n",
    "    count += 1"
   ]
  },
  {
   "cell_type": "markdown",
   "id": "41764016-a544-4c9f-a6cf-95b6ef94048d",
   "metadata": {},
   "source": [
    "## 3. **Funktionen** **_Functions_**\n",
    "\n",
    "- Eingeleitet durch das Schlüsselword `def`\n",
    "- Name gefolgt von runden Klammern `()`\n",
    "    - Klammern enthalten Parameter\n",
    "    - Standard Wert kann angegeben werden\n",
    "- Aufruf erfolgt über Name mit runden Klammern\n",
    "    - Parmeter werden in Klammer übergeben\n",
    "\n",
    ">>>\n",
    "\n",
    "- _Introduced by the keyword `def`_\n",
    "- _Name followed by round brackets `()`_\n",
    "    - _Parentheses contain parameters_\n",
    "    - _Default value can be specified_\n",
    "- _Call is made via name with round brackets_\n",
    "    - _Parameters are passed in brackets_"
   ]
  },
  {
   "cell_type": "code",
   "execution_count": 10,
   "id": "42669de9-c27b-48e4-adae-d98af5f1ddc4",
   "metadata": {},
   "outputs": [
    {
     "name": "stdout",
     "output_type": "stream",
     "text": [
      "Hello, World!\n",
      "Hello, Alice!\n"
     ]
    }
   ],
   "source": [
    "def greet(name = \"World\"):\n",
    "    return f\"Hello, {name}!\"\n",
    "\n",
    "# Nutzt den Standardwert (Use default value)\n",
    "print(greet())\n",
    "\n",
    "# Nutzt eigenen Wert (Use custom value)\n",
    "print(greet(name=\"Alice\"))"
   ]
  },
  {
   "cell_type": "markdown",
   "id": "b491c200-6071-42e6-a00f-556c2994382f",
   "metadata": {},
   "source": [
    "## 4. **Objekt-Orientierte Programmierung** **_Object-Oriented Programming_** (OOP) \n",
    "\n",
    "Python unterstützt OOP Konzepte wie Klassen, Interfaces, Kapselung und Objekte.\n",
    "\n",
    "_Python supports OOP concepts such as classes, interfaces, encapsulation and objects._"
   ]
  },
  {
   "cell_type": "markdown",
   "id": "4b27c36a-0c42-46c9-8ab9-09e8edfa88d7",
   "metadata": {},
   "source": [
    "**Interface Klassen**\n",
    "- Interface Klassen werden durch ihre Vererbung von `ABC` kenntlich gemacht\n",
    "- Abstrakte Methoden durch die Annotation `@abstractmethod` an der Definition\n",
    "\n",
    "**Interface classes**\n",
    "- Interface classes are identified by their inheritance from `ABC`\n",
    "- Abstract methods by the annotation `@abstractmethod` at the definition"
   ]
  },
  {
   "cell_type": "code",
   "execution_count": 11,
   "id": "f627ff43-64f9-4f51-b5f8-ca8b7d29ba8f",
   "metadata": {},
   "outputs": [],
   "source": [
    "from abc import ABC, abstractmethod\n",
    "\n",
    "class Humanoid(ABC):\n",
    "    @abstractmethod\n",
    "    def greet(self):\n",
    "        pass"
   ]
  },
  {
   "cell_type": "markdown",
   "id": "78dd149b-074e-4b9d-9ec7-4206c7063dd7",
   "metadata": {},
   "source": [
    "**💡** Interface Klassen können nicht direkt instanziiert werden, da sie abstrakte Methoden enthalten.  \n",
    "**💡** _Interface classes cannot be instantiated directly as they contain abstract methods._"
   ]
  },
  {
   "cell_type": "code",
   "execution_count": 12,
   "id": "9844c1fb-a4c9-4ecb-a731-6bb12d9387b1",
   "metadata": {},
   "outputs": [
    {
     "ename": "TypeError",
     "evalue": "Can't instantiate abstract class Humanoid with abstract method greet",
     "output_type": "error",
     "traceback": [
      "\u001b[31m---------------------------------------------------------------------------\u001b[39m",
      "\u001b[31mTypeError\u001b[39m                                 Traceback (most recent call last)",
      "\u001b[36mCell\u001b[39m\u001b[36m \u001b[39m\u001b[32mIn[12]\u001b[39m\u001b[32m, line 1\u001b[39m\n\u001b[32m----> \u001b[39m\u001b[32m1\u001b[39m humanoid = \u001b[43mHumanoid\u001b[49m\u001b[43m(\u001b[49m\u001b[43m)\u001b[49m\n",
      "\u001b[31mTypeError\u001b[39m: Can't instantiate abstract class Humanoid with abstract method greet"
     ]
    }
   ],
   "source": [
    "humanoid = Humanoid()"
   ]
  },
  {
   "cell_type": "markdown",
   "id": "65bd44ae-2b78-4ea8-ad92-86036cf017a8",
   "metadata": {},
   "source": [
    "**Definieren einer Klasse**\n",
    "- Eine Klasse wird durch das Schlüsselword `class` kenntlich gemacht\n",
    "- Das Interface welches implementiert wird ist in Klammern hinter dem Namen der Klasse angegeben\n",
    "- Eine Instanz der Klasse wird erzeugt durch den Aufruf des Klassennamens gefolgt von Klammern\n",
    "    - Dieser Aufrauf enthählt als Parameter die Argumente der `__init__` Funktion\n",
    "\n",
    "**Define a class**\n",
    "- A class is identified by the keyword `class`\n",
    "- The interface that is implemented is given in brackets after the name of the class\n",
    "- An instance of the class is created by calling the class name followed by parentheses\n",
    "    - This call contains the arguments of the `__init__` function as parameters"
   ]
  },
  {
   "cell_type": "code",
   "execution_count": 13,
   "id": "59075058-21ec-489d-951c-89a7f8d32672",
   "metadata": {},
   "outputs": [
    {
     "name": "stdout",
     "output_type": "stream",
     "text": [
      "Hi, I am Alice and I am 25 years old.\n"
     ]
    }
   ],
   "source": [
    "class Person(Humanoid):\n",
    "    def __init__(self, name, age):\n",
    "        self.name = name\n",
    "        self.age = age\n",
    "\n",
    "    def greet(self):\n",
    "        return f\"Hi, I am {self.name} and I am {self.age} years old.\"\n",
    "\n",
    "# Instanz erzeugen (create an instance)\n",
    "person1 = Person(\"Alice\", 25)\n",
    "\n",
    "# Aufruf einer Methode der Klasse (call method from class)\n",
    "print(person1.greet())"
   ]
  },
  {
   "cell_type": "markdown",
   "id": "e355397c-4a79-4d66-9e1b-36593149f141",
   "metadata": {},
   "source": [
    "**Vererbung**\n",
    "- Die Klasse von der geerbt werden soll wird wie bei Interface Klassen in Klammern hinter dem Namen angebenen\n",
    "- Der Aufruf der Basis Klasse erfolgt über `super()`\n",
    "\n",
    "**_Inheritance_**\n",
    "- _The class to be inherited from is specified in brackets after the name, as with interface classes_\n",
    "- _The base class is called via `super()`_"
   ]
  },
  {
   "cell_type": "code",
   "execution_count": 14,
   "id": "b038a5e9-00db-4186-9ac7-f47a2d4ae23c",
   "metadata": {},
   "outputs": [
    {
     "name": "stdout",
     "output_type": "stream",
     "text": [
      "Hi, I am Bob and I am 20 years old.\n",
      "Bob is in grade A.\n"
     ]
    }
   ],
   "source": [
    "class Student(Person):\n",
    "    def __init__(self, name, age, grade):\n",
    "        super().__init__(name, age)\n",
    "        self.grade = grade\n",
    "\n",
    "    def show_grade(self):\n",
    "        return f\"{self.name} is in grade {self.grade}.\"\n",
    "\n",
    "# Instanz erzeugen (create an instance)\n",
    "student1 = Student(\"Bob\", 20, \"A\")\n",
    "\n",
    "# Aufruf einer Methode der Basis Klasse (call method from base class)\n",
    "print(student1.greet())\n",
    "\n",
    "# Aufruf einer Methode der Klasse (call method from class)\n",
    "print(student1.show_grade())"
   ]
  },
  {
   "cell_type": "markdown",
   "id": "ed4b9b13-baf8-42c4-b1b4-8d3bcc0fcd4b",
   "metadata": {},
   "source": [
    "## 5. **Externe Module** **_External Modules_**\n",
    "\n",
    "- Nutze `import` um Bibliotheken und eigene Module zu importieren.\n",
    "- Anstellen die komplette Bibliothek zu importieren is es besser nrur die benötigten Funktione/Methoden zu importieren\n",
    "    - Syntax: `from <Bibliothek> import <Funktion,Klasse,...>[, <Funktion,Klasse,...>]`\n",
    "- Pfade werden mit einem Punkt getrennt: `your.custom.package`\n",
    "\n",
    "\n",
    ">>>\n",
    "\n",
    "- Use `import` to import libraries and custom modules.\n",
    "- Instead of importing the complete library it is better to import only the required functions/methods\n",
    "    - Syntax: `from <library> import <function,class,...>[, <function,class,...>]`\n",
    "- Paths are separated with a dot: `your.custom.package`"
   ]
  },
  {
   "cell_type": "code",
   "execution_count": 15,
   "id": "39c5ca2c-252d-4cd4-8fe0-34e02c4b7bfd",
   "metadata": {},
   "outputs": [
    {
     "name": "stdout",
     "output_type": "stream",
     "text": [
      "Hello World!\n"
     ]
    }
   ],
   "source": [
    "from src.greetings import greet\n",
    "\n",
    "print(greet())"
   ]
  },
  {
   "cell_type": "markdown",
   "id": "1d13f7a8-6985-47fb-8fff-7affe037cca6",
   "metadata": {},
   "source": [
    "## 6. **Error Handling**\n",
    "\n",
    "Python bietet Exceptions an um Fehler weiterzugeben und abzufangen.\n",
    "\n",
    "_Python offers exceptions to pass on and catch errors._"
   ]
  },
  {
   "cell_type": "code",
   "execution_count": 16,
   "id": "62af9ced-c2a6-4e0c-aeff-cd8e3686246d",
   "metadata": {},
   "outputs": [
    {
     "name": "stdout",
     "output_type": "stream",
     "text": [
      "Cannot divide by zero!\n",
      "Execution complete.\n"
     ]
    }
   ],
   "source": [
    "# Block in dem Fehler gefangen werden (block to catch excpetions)\n",
    "try:\n",
    "    result = 10 / 0\n",
    "\n",
    "# Fängt Fehler ab (catch excpetion)\n",
    "except ZeroDivisionError:\n",
    "    print(\"Cannot divide by zero!\")\n",
    "\n",
    "# Wird in jedemfall am Ende ausgeführt (always executed at the end)\n",
    "finally:\n",
    "    print(\"Execution complete.\")"
   ]
  },
  {
   "cell_type": "markdown",
   "id": "78db5afd-9419-42f7-b9ed-a09ea1fc4372",
   "metadata": {},
   "source": [
    "## 7. **Typing**\n",
    "\n",
    "Obwohl Python keine typisierte Sprache ist, kann man Hinweise (type hints) einbringen, welche es externen Tools wie [mypy](https://www.mypy-lang.org/) erlauben eine statische Typen Püfung zu machen.\n",
    "\n",
    "_Although Python is not a typed language, you can include type hints that allow external tools like [mypy](https://www.mypy-lang.org/) to do static type checking._"
   ]
  },
  {
   "cell_type": "markdown",
   "id": "d5eb7be2-a16d-4fc8-a00d-d4961d8ff409",
   "metadata": {},
   "source": [
    "### Builtin Types"
   ]
  },
  {
   "cell_type": "code",
   "execution_count": 17,
   "id": "a9c46be0-41fd-468c-96ee-ebda46d3bb33",
   "metadata": {},
   "outputs": [],
   "source": [
    "# Einfache Type (simple types)\n",
    "x: int = 1\n",
    "x: float = 1.0\n",
    "x: bool = True\n",
    "x: str = \"test\"\n",
    "x: bytes = b\"test\"\n",
    "\n",
    "# Sammlungen (collections and lists)\n",
    "x: list[int] = [1]\n",
    "x: set[int] = {6, 7}\n",
    "x: dict[str, float] = {\"field\": 2.0}\n",
    "x: tuple[int, str, float] = (3, \"yes\", 7.5) \n",
    "\n",
    "# Tuple mit variabler Länge (tuples with variable size)\n",
    "x: tuple[int, ...] = (1, 2, 3) \n",
    "\n",
    "# Verschiedne Typen (Multiple Types)\n",
    "x: list[int | str] = [3, 5, \"test\", \"fun\"] \n",
    "x: str | None = None"
   ]
  },
  {
   "cell_type": "markdown",
   "id": "5c8c8596-c735-4e33-90d5-decaea1b6329",
   "metadata": {},
   "source": [
    "Funktionen und Klassen können ebenfalls mit Type Hints versehen werden.  \n",
    "_Functions and classes can also be provided_"
   ]
  },
  {
   "cell_type": "code",
   "execution_count": 18,
   "id": "f5a0c35f-77db-4ea1-bd91-17fada451994",
   "metadata": {},
   "outputs": [],
   "source": [
    "# Funktion mit Parametern (function with parameters)\n",
    "# Rückgabe der Funktion wird vor dem : angegeben (return type defined before :)\n",
    "def plus(num1: int, num2: int) -> int:\n",
    "    return num1 + num2\n",
    "\n",
    "class Alien(Humanoid):\n",
    "    # Typ for self wird nicht angegeben (type for self is omitted)\n",
    "    def __init__(self, name: str, age: int) -> None:\n",
    "        self.name = name\n",
    "        self.age = age\n",
    "\n",
    "    def greet(self) -> None:\n",
    "        return f\"Hi, I am {self.name} and I am {self.age} years old.\""
   ]
  },
  {
   "cell_type": "markdown",
   "id": "ddb67354-fb56-4e18-9191-d9649c6973ae",
   "metadata": {},
   "source": [
    "**[NEXT (Numpy)](numpy_tutorial.ipynb)**"
   ]
  }
 ],
 "metadata": {
  "kernelspec": {
   "display_name": "Python 3 (ipykernel)",
   "language": "python",
   "name": "python3"
  },
  "language_info": {
   "codemirror_mode": {
    "name": "ipython",
    "version": 3
   },
   "file_extension": ".py",
   "mimetype": "text/x-python",
   "name": "python",
   "nbconvert_exporter": "python",
   "pygments_lexer": "ipython3",
   "version": "3.11.11"
  }
 },
 "nbformat": 4,
 "nbformat_minor": 5
}
