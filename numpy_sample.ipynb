{
 "cells": [
  {
   "cell_type": "markdown",
   "id": "01e4070f-09e2-4364-bc57-9ae6dea9d0d6",
   "metadata": {},
   "source": [
    "Nachdem wir nun die Grundlagen von Python und NumPy betractet haben werden wir jetzt eine Klasse schreiben die es ermöglicht ein Bild zu laden und dieses mit verschiedenen Operationen zu bearbeiten.\n",
    "\n",
    "_Now that we have covered the basics of Python and NumPy, we will write a class that allows you to load an image and process it with various operations._"
   ]
  },
  {
   "cell_type": "markdown",
   "id": "c6725301-cd92-4498-ac73-5c80e4edafc6",
   "metadata": {},
   "source": [
    "## 1. Bibliotheken importieren\n",
    "\n",
    "Um die Aufgabe zu erfüllen benötigen wir verschiedene Bibliotheken:\n",
    "- `pillow`\n",
    "    - Bild Verarbeitung mit Python\n",
    "    - Wird `PIL` genannt\n",
    "- `numpy` (oft `np` abgekürzt)\n",
    "    - Datenverabeitung\n",
    "- `matplotlib.pyplot` (oft `plt` abgeküzt)\n",
    "    - Datenvisualisierung\n",
    " \n",
    "---\n",
    "\n",
    "To fulfill the task we need different libraries:\n",
    "- `pillow`\n",
    "    - Image processing with Python\n",
    "    - Called `PIL`\n",
    "- `numpy` (often abbreviated `np`)\n",
    "    - Data processing\n",
    "- `matplotlib.pyplot` (often abbreviated `plt`)\n",
    "    - Data visualization"
   ]
  },
  {
   "cell_type": "code",
   "execution_count": null,
   "id": "fb8058e1-3723-42da-b9d9-20fc5f647da3",
   "metadata": {},
   "outputs": [],
   "source": [
    "# Hier können sie die fehlenden Bibliotheken einfügen (Here you can import the missing libraries)\n",
    "import ..."
   ]
  },
  {
   "cell_type": "markdown",
   "id": "6019bc49-6dea-4fd1-9b72-e01abe8057bf",
   "metadata": {},
   "source": [
    "## 2. Bild Laden _Load Image_\n",
    "\n",
    "1. Definieren einer Methode `load_image`\n",
    "    - Nimmt einen Pfad (Typ `str`) als Eingabeparameter\n",
    "    - Gibt ein NumPy Array (Typ `np.typing.NDArray`) als Ausgabe zurück\n",
    "2. Das Bild einlesen mit der Methode `Image.open(<path>)` aus der `PIL` Bibliothek\n",
    "    - Hierfür nutzen wir einen `with PIL.Image.open(path) as image:` Block, welcher automatisch das schliessen der Ressourcen übernimmt\n",
    "    - Im Folgenden kann das Bild dann über `image` genutzt werden\n",
    "4. Das geladene Bild mit der Methode `asarray(<image>)` as der `numpy` Bibliothek in ein NumPy Array konvertieren\n",
    "5. Das NumPy Array zurück geben\n",
    "\n",
    "---\n",
    "\n",
    "1. _Define a method `load_image_\n",
    "    - _Takes a path (Type `str`) as input parameter_\n",
    "    - _Returns a NumPy array (Type `np.typing.NDArray`) as output_\n",
    "2. _Read in the image with the method `Image.open(<path>)` from the `PIL` library_\n",
    "    - _For this we use a `with PIL.Image.open(path) as image:` block, which automatically closes the resources_\n",
    "    - _In the following, the image can then be used via `image_\n",
    "4. _Convert the loaded image into a NumPy array using the method `asarray(<image>)` from the `numpy` library_\n",
    "5. _Return the NumPy array_"
   ]
  },
  {
   "cell_type": "code",
   "execution_count": null,
   "id": "00a2a023-96f4-44f3-b105-0bb3ab84339d",
   "metadata": {},
   "outputs": [],
   "source": [
    "# Hier können sie die Lösung einfügen (Insert your solution here)\n",
    "def load_image(..."
   ]
  },
  {
   "cell_type": "markdown",
   "id": "08adcf8a-9d2f-487c-8eed-6c967e6453dd",
   "metadata": {},
   "source": [
    "## 3. Bild in Graufstufen umwandlen _Convert to Grayscale Image_\n",
    "\n",
    "Um das Bild später weiter zu verarbeiten müssen wir dieses in ein Graustufen Bild umwandlen.\n",
    "Hierfür müssen wir:\n",
    "1. Die einzelnen Kanäle (RGB) abspalten\n",
    "2. Die Pixel mittels der ITU-R BT.709 Modells in einen Graustufen Wert umrechenen\n",
    "    - Anteil Rot: 0.2989\n",
    "    - Anteil Grün: 0.5870\n",
    "    - Anteil Blau: 0.1140\n",
    "4. Die Pixel auf den Bereich 0 bis 255 skalieren\n",
    "    - Skalierungsfaktor  ermitteln: `255 / np.max(image_grayscale)`\n",
    "    - Das Graustufen Bild mit dem Skalierungsfaktor multiplizieren\n",
    "6. Die Werte im NumPy Array mit derm Methode `astype(<type>)` in den Typ `uint8` umwandeln\n",
    "7. Das konvertierte Bild zurück geben\n",
    "\n",
    "---\n",
    "\n",
    "_In order to process the image later, we need to convert it into a grayscale image._\n",
    "_For this we must:_\n",
    "1. _Split off the individual channels (RGB)_\n",
    "2. _Convert the pixels into a grayscale value using the ITU-R BT.709 model_\n",
    "    - _Red component: 0.2989_\n",
    "    - _Green component: 0.5870_\n",
    "    - _Blue component: 0.1140_\n",
    "4. _Scale the pixels to the range 0 to 255_\n",
    "    - _Determine the scaling factor: `255 / np.max(image_grayscale)`_\n",
    "    - _Multiply the grayscale image by the scaling factor_\n",
    "6. _Convert the values in the NumPy array to the type `uint8` using the method `astype(<type>)`_\n",
    "7. _Return the converted image_"
   ]
  },
  {
   "cell_type": "code",
   "execution_count": null,
   "id": "031fa736-e799-49e3-9f1b-156c16edba55",
   "metadata": {},
   "outputs": [],
   "source": [
    "# Hier Lösung einfügen (Insert your solution)\n",
    "def convert_to_grayscale(image: np.typing.NDArray) -> np.typing.NDArray:\n",
    "    r, g, b = image[:,:, 0], image[:,:, 1], image[:,:, 2]\n",
    "    img_greyscale = ..."
   ]
  },
  {
   "cell_type": "markdown",
   "id": "40f10d1e-92c8-407c-b60f-1899efc82463",
   "metadata": {},
   "source": [
    "## 4. Kanten finden _Edge Detection_\n",
    "\n",
    "1. Definieren sie die Funktion `detect_edges`\n",
    "    - Eingabeparamter: `image` vom Typ `np.typing.NDArray`\n",
    "    - Ausgabeparameter Typ `np.typing.NDArray`\n",
    "2. Wenden sie nacheinander die Funktionen `apply_sobel_x` und `apply_sobel_y` auf das Bild an un speichern das Ergebnis in unterschiedlichen NumPy Arrays\n",
    "3. Quardrieren sie die Werte der beiden NumPy Arrys. (TIP: Mit `**2` kann man die Elmente quardrieren)\n",
    "4. Addieren sie die beiden NumPy Arrays zu einem\n",
    "5. Ziehen sie aus jedem Wert die Qudratwurzel mit der Funktion `sqrt` aus der `numpy` Bibliothek\n",
    "6. Die Werte auf den Bereich 0 bis 255 skalieren\n",
    "    - Skalierungsfaktor  ermitteln: `255 / np.max(image_grayscale)`\n",
    "    - Das Graustufen Bild mit dem Skalierungsfaktor multiplizieren\n",
    "7. Die Werte im NumPy Array mit derm Methode `astype(<type>)` in den Typ `uint8` umwandeln\n",
    "8. Das konvertierte Bild zurück geben\n",
    "\n",
    "\n",
    "---\n",
    "\n",
    "1. _Define the function `detect_edges`._\n",
    "    - _Input parameter: `image` of type `np.typing.NDArray`_\n",
    "    - _Output parameter type `np.typing.NDArray`._\n",
    "2. _Apply the functions `apply_sobel_x` and `apply_sobel_y` to the image one after the other and store the result in different NumPy arrays_\n",
    "3. _Square the values of the two NumPy arrays. (TIP: With `**2` you can square the elements)_\n",
    "4. _Add the two NumPy arrays to one_\n",
    "5. _Take the square root of each value with the function `sqrt` from the `numpy` library_\n",
    "6. _Scale the values to the range 0 to 255_\n",
    "    - _Determine the scaling factor: `255 / np.max(image_grayscale)`_\n",
    "    - _Multiply the grayscale image by the scaling factor_\n",
    "7. _Convert the values in the NumPy array to the type `uint8` using the method `astype(<type>)`_\n",
    "8. _Return the converted image_"
   ]
  },
  {
   "cell_type": "code",
   "execution_count": null,
   "id": "adac46de-cd02-4797-b032-1026e079b24b",
   "metadata": {
    "jupyter": {
     "source_hidden": true
    }
   },
   "outputs": [],
   "source": [
    "# Sobel Filter\n",
    "def apply_sobel_x(image:np.typing.NDArray) -> np.typing.NDArray:\n",
    "    # Sobel-X filter\n",
    "    filter = np.array([[-1, 0, 1],\n",
    "                       [-1, 0, 1],\n",
    "                       [-1, 0, 1]])\n",
    "    processed_img = np.zeros(image.shape)\n",
    "    for x in range(0,image.shape[0]-2):\n",
    "        for y in range(0, image.shape[1]-2):\n",
    "            new_pixel = 0\n",
    "            for x_filter in range(0,3):\n",
    "                for y_filter in range(0,3):\n",
    "                    new_pixel += image[x+x_filter,y+y_filter] * filter[x_filter,y_filter]\n",
    "            processed_img[x+1,y+1] = new_pixel\n",
    "    return processed_img * (255 / np.max(processed_img))\n",
    "\n",
    "def apply_sobel_y(image:np.typing.NDArray) -> np.typing.NDArray:\n",
    "    # Sobel-Y filter\n",
    "    filter = np.array([[-1, -1, -1],\n",
    "                       [ 0,  0,  0],\n",
    "                       [ 1,  1,  1]])\n",
    "    processed_img = np.zeros(image.shape)\n",
    "    for x in range(0,image.shape[0]-2):\n",
    "        for y in range(0, image.shape[1]-2):\n",
    "            new_pixel = 0\n",
    "            for x_filter in range(0,3):\n",
    "                for y_filter in range(0,3):\n",
    "                    new_pixel += image[x+x_filter,y+y_filter] * filter[x_filter,y_filter]\n",
    "            processed_img[x+1,y+1] = new_pixel\n",
    "    return processed_img * (255 / np.max(processed_img))"
   ]
  },
  {
   "cell_type": "code",
   "execution_count": null,
   "id": "0a992f26-ebca-4593-9a79-a428f26132db",
   "metadata": {
    "editable": true,
    "slideshow": {
     "slide_type": ""
    },
    "tags": []
   },
   "outputs": [],
   "source": [
    "# Hier Lösung einfügen (Insert your solution)\n",
    "def detect_edges(..."
   ]
  },
  {
   "cell_type": "markdown",
   "id": "f0a8faf6-db17-45c0-a850-615cf87b0dda",
   "metadata": {},
   "source": [
    "## 5. Anwendungsbeispiel _Application_\n",
    "\n",
    "Jetzt wollen wir die zuvor implementierten Funktionen nuzen um ein RGB-Bild zu laden und in ein Graustufen Bild umzuwandeln und anschliissend die Kanten in dem Bild anzuzeigen.\n",
    "1. Das Bild mit dem Pfad \"src/lena.png\" mit der Funktion `load_image` laden und in einer Variable `img` speichern\n",
    "2. Die Variable `img` mit der Funktion `convert_to_grayscale` in ein Graustufen Bild umwandeln\n",
    "3. Mit der Funktion `detect_edges` die Kantendetekion ausführen und in der Variable `edges` speichern\n"
   ]
  },
  {
   "cell_type": "code",
   "execution_count": null,
   "id": "76990c25-3f97-493f-88c9-d75fdec13332",
   "metadata": {},
   "outputs": [],
   "source": [
    "# Hier Lösung einfügen (Insert your solution)\n",
    "img: np.typing.NDArray = ..."
   ]
  },
  {
   "cell_type": "markdown",
   "id": "3b92ef8f-1530-4b4d-b58c-da24a5f03a38",
   "metadata": {},
   "source": [
    "Der Nachfolgende Code Block enthält eine Visualiesrung der Ergebnisse.\n",
    "Mit dem Slider ist es möglich einen Grenzwert  für die Binarisierung der Kantendetektion anzupassen.\n",
    "\n",
    "_The following code block contains a visualization of the results._\n",
    "_With the slider it is possible to adjust a limit value for the binarization of the edge detection._"
   ]
  },
  {
   "cell_type": "code",
   "execution_count": null,
   "id": "15bc07c2-f6c1-46e0-b1fd-a2ae8ac4eb68",
   "metadata": {
    "jupyter": {
     "source_hidden": true
    }
   },
   "outputs": [],
   "source": [
    "# Visualiserung des Ergebnisses (Visualization of the result)\n",
    "%matplotlib ipympl\n",
    "from ipywidgets import interact\n",
    "from mpl_interactions import ipyplot as iplt\n",
    "\n",
    "fig, (ax1,ax2,ax3) = plt.subplots(1,3)\n",
    "fig.suptitle(\"Lena.png\")\n",
    "\n",
    "ax1.set_title(\"Original\")\n",
    "ax1.imshow(img, cmap='gray', vmin=0, vmax=255)\n",
    "\n",
    "ax2.set_title(\"Edges\")\n",
    "ax2.imshow(edge_img, cmap='gray', vmin=0, vmax=255)\n",
    "\n",
    "def update_image(threshold:int=25) -> np.typing.NDArray:\n",
    "    binarized = np.zeros(edge_img.shape)\n",
    "    binarized[edge_img>threshold]=255\n",
    "    return binarized\n",
    "ax3.set_title(\"Binarized Edges\")\n",
    "controls = iplt.imshow(update_image, cmap='gray', vmin=0, vmax=255, ax=ax3, threshold=(0,255))"
   ]
  },
  {
   "cell_type": "markdown",
   "id": "3073a953-21d4-4833-912d-cabe067b35e2",
   "metadata": {},
   "source": [
    "🎉 Sie haben es geschafft. Dies war unser Python Tutorial. Wenn sie bis hier hin gekommen sind, sollten sie keine Probleme beim Workshop haben!\n",
    "\n",
    "🎉 _You have done it. This was our Python tutorial. If you have made it this far, you should have no problems with the workshop!_"
   ]
  },
  {
   "cell_type": "markdown",
   "id": "23463083-1cd3-4d28-8cc0-358ff0bf03ad",
   "metadata": {},
   "source": [
    "Zusätzlicher Inhalt _Additional Content_:\n",
    "- [Tutorial: Konfigurationen laden mit Tests _Data Loader with tests_](loader_sample.ipynb)"
   ]
  }
 ],
 "metadata": {
  "kernelspec": {
   "display_name": "Python 3 (ipykernel)",
   "language": "python",
   "name": "python3"
  },
  "language_info": {
   "codemirror_mode": {
    "name": "ipython",
    "version": 3
   },
   "file_extension": ".py",
   "mimetype": "text/x-python",
   "name": "python",
   "nbconvert_exporter": "python",
   "pygments_lexer": "ipython3",
   "version": "3.11.11"
  }
 },
 "nbformat": 4,
 "nbformat_minor": 5
}
