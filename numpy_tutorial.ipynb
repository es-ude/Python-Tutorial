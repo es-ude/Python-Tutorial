{
 "cells": [
  {
   "cell_type": "markdown",
   "id": "b739152c-75cb-4fd2-9ce8-123c40a5deb1",
   "metadata": {},
   "source": [
    "# **Einführung in NumPy** **_Introduction to NumPy_**\n",
    "\n",
    "[NumPy](https://numpy.org/doc/stable/) ist eine grundlegende Python-Bibliothek für numerische Berechnungen. Sie bietet Werkzeuge für die Arbeit mit Arrays, Matrizen und einer Vielzahl von mathematischen Funktionen.\n",
    "\n",
    "_[NumPy](https://numpy.org/doc/stable/) is a fundamental Python library for numerical computing. It provides tools to work with arrays, matrices, and a host of mathematical functions._"
   ]
  },
  {
   "cell_type": "markdown",
   "id": "65665577-af01-4034-b94f-5bb81fa6c16c",
   "metadata": {},
   "source": [
    "## 1. NumPy Importieren _Import NumPy_\n",
    "\n",
    "Damit können wir die Funktionen von NumPy verwenden, indem wir ihnen den Präfix `np` voranstellen.\n",
    "\n",
    "_This allows you to use NumPy’s functions by prefixing them with `np`._"
   ]
  },
  {
   "cell_type": "code",
   "execution_count": 5,
   "id": "9baea2a9-d139-456c-857d-35ce9dce82f6",
   "metadata": {},
   "outputs": [],
   "source": [
    "import numpy as np"
   ]
  },
  {
   "cell_type": "markdown",
   "id": "53e52a29-fc4d-46da-85af-fa0eb56ef87e",
   "metadata": {},
   "source": [
    "## 3. Arrays anlegen _Creating Arrays_"
   ]
  },
  {
   "cell_type": "code",
   "execution_count": 6,
   "id": "efacb357-7e82-46c2-abbc-537b647ab5e4",
   "metadata": {},
   "outputs": [
    {
     "name": "stdout",
     "output_type": "stream",
     "text": [
      "[1 2 3 4]\n",
      "[[1 2 3]\n",
      " [4 5 6]]\n"
     ]
    }
   ],
   "source": [
    "# 1D Array (Vector)\n",
    "arr = np.array([1, 2, 3, 4])\n",
    "print(arr)\n",
    "\n",
    "# 2D Array (Matrix)\n",
    "arr_2d = np.array([[1, 2, 3], [4, 5, 6]])\n",
    "print(arr_2d)\n",
    "\n",
    "# Special Arrays\n",
    "zeros = np.zeros((2, 3))  # 2x3 array of zeros\n",
    "ones = np.ones((3, 2))    # 3x2 array of ones\n",
    "identity = np.eye(3)      # 3x3 identity matrix"
   ]
  },
  {
   "cell_type": "markdown",
   "id": "7afcb950-1e1c-4501-98e1-51065e26511c",
   "metadata": {},
   "source": [
    "## 3. Array Operationen _Array Operations_\n",
    "\n",
    "NumPy ermöglicht elementweise Operationen und unterstützt Matrixoperationen.\n",
    "\n",
    "_NumPy enables element-wise operations and supports matrix operations._"
   ]
  },
  {
   "cell_type": "code",
   "execution_count": 7,
   "id": "2253194d-14a8-4ffb-928d-eda3bcdce71c",
   "metadata": {},
   "outputs": [],
   "source": [
    "# Element-wise addition\n",
    "arr_a = np.array([1, 2, 3])\n",
    "arr_b = np.array([4, 5, 6])\n",
    "sum_arr = arr_a + arr_b\n",
    "\n",
    "# Matrix Multiplication\n",
    "matrix_a = np.array([[1, 2], [3, 4]])\n",
    "matrix_b = np.array([[5, 6], [7, 8]])\n",
    "result = np.dot(matrix_a, matrix_b)"
   ]
  },
  {
   "cell_type": "markdown",
   "id": "91a90eda-624b-4c0a-94bc-cea860c4e4b4",
   "metadata": {},
   "source": [
    "## 4. Indizierung _Indexing_\n",
    "\n",
    "Der Zugriff auf Elemente funktioniert wie bei normalen Listen in Python.\n",
    "\n",
    "_Works like normal lists in Python._"
   ]
  },
  {
   "cell_type": "code",
   "execution_count": 8,
   "id": "8b594d74-0fd1-439d-a312-dd24b5a3c24f",
   "metadata": {},
   "outputs": [
    {
     "name": "stdout",
     "output_type": "stream",
     "text": [
      "30\n",
      "[1 2 3]\n",
      "[4 5 6]\n"
     ]
    }
   ],
   "source": [
    "# Accessing elements\n",
    "arr = np.array([10, 20, 30, 40])\n",
    "print(arr[2])\n",
    "\n",
    "# Slicing\n",
    "arr = np.array([0, 1, 2, 3, 4, 5])\n",
    "print(arr[1:4])\n",
    "\n",
    "# Multidimensional Slicing\n",
    "arr_2d = np.array([[1, 2, 3], \n",
    "                   [4, 5, 6]])\n",
    "print(arr_2d[1, :])"
   ]
  },
  {
   "cell_type": "markdown",
   "id": "73ffa320-a82d-43b4-bedb-09000cbb1840",
   "metadata": {},
   "source": [
    "## 5. Nützliche Funktionenen _Useful Functions_"
   ]
  },
  {
   "cell_type": "code",
   "execution_count": 12,
   "id": "fa922d88-eca1-46d2-a41e-430cd5da4896",
   "metadata": {},
   "outputs": [
    {
     "name": "stdout",
     "output_type": "stream",
     "text": [
      "[ 0  2  4  6  8 10]\n",
      "5.0\n",
      "30\n",
      "10\n",
      "[[ 0  2  4]\n",
      " [ 6  8 10]]\n"
     ]
    }
   ],
   "source": [
    "# Generating Ranges\n",
    "arr = np.arange(0, 11, 2)  # Array from 0 to 11 (exclusive) with step 2\n",
    "print(arr)\n",
    "\n",
    "#Statistical Functions\n",
    "print(np.mean(arr))  # Mean\n",
    "print(np.sum(arr))   # Sum\n",
    "print(np.max(arr))   # Maximum\n",
    "\n",
    "# Reshaping Arrays\n",
    "reshaped = arr.reshape((2, 3))  # 2x3 array\n",
    "print(reshaped)"
   ]
  },
  {
   "cell_type": "markdown",
   "id": "d1088e62-f1dd-4bfc-9842-0ff66a836b82",
   "metadata": {},
   "source": [
    "## 6. Erweiterung _Broadcasting_\n",
    "\n",
    "NumPy expandiert kleinere Arrays automatisch, um sie an die Form größerer Arrays anzupassen.\n",
    "\n",
    "_NumPy automatically expands smaller arrays to match the shape of larger ones._"
   ]
  },
  {
   "cell_type": "code",
   "execution_count": 13,
   "id": "91c83a28-0d2a-453f-b827-417a0795e508",
   "metadata": {},
   "outputs": [
    {
     "name": "stdout",
     "output_type": "stream",
     "text": [
      "[6 7 8]\n"
     ]
    }
   ],
   "source": [
    "arr = np.array([1, 2, 3])\n",
    "print(arr + 5)"
   ]
  },
  {
   "cell_type": "markdown",
   "id": "bb29a946-556a-49d2-8ecc-005f052e6e51",
   "metadata": {},
   "source": [
    "## 7. Practical Applications"
   ]
  },
  {
   "cell_type": "code",
   "execution_count": 15,
   "id": "f9cff28f-3a67-4755-abdb-cb497ae283f1",
   "metadata": {},
   "outputs": [
    {
     "name": "stdout",
     "output_type": "stream",
     "text": [
      "[0.         0.33333333 0.66666667 1.        ]\n",
      "[[1. 0. 0. 0.]\n",
      " [0. 1. 0. 0.]\n",
      " [0. 0. 0. 1.]]\n"
     ]
    }
   ],
   "source": [
    "# Normalizing Data\n",
    "data = np.array([1, 2, 3, 4])\n",
    "normalized = (data - np.min(data)) / (np.max(data) - np.min(data))\n",
    "print(normalized)\n",
    "\n",
    "# Creating One-Hot Encoded Arrays\n",
    "categories = 4\n",
    "indices = np.array([0, 1, 3])\n",
    "one_hot = np.eye(categories)[indices]\n",
    "print(one_hot)"
   ]
  },
  {
   "cell_type": "markdown",
   "id": "f9bf5a74-f75d-4907-ad14-166463ed7cc9",
   "metadata": {},
   "source": [
    "## 8. Zusammenfassung _Summary_\n",
    "\n",
    "NumPy ist eine vielseitige Bibliothek für numerische Berechnungen. \n",
    "Sie ist die Grundlage für Bibliotheken wie Pandas, Matplotlib und Scikit-learn. \n",
    "Die Beherrschung von NumPy ist ein Sprungbrett für fortgeschrittene Data Science und maschinelles Lernen.\n",
    "\n",
    ">>>\n",
    "    \n",
    "_NumPy is a versatile library for numerical computations._\n",
    "_It is foundational for libraries like Pandas, Matplotlib, and Scikit-learn._\n",
    "_Mastering NumPy is a stepping stone for advanced data science and machine learning._"
   ]
  },
  {
   "cell_type": "markdown",
   "id": "431302ca-26e0-4ca1-878f-e8b0ef9f7a28",
   "metadata": {},
   "source": [
    "[NEXT (Numpy Example)](numpy_sample.ipynb)"
   ]
  }
 ],
 "metadata": {
  "kernelspec": {
   "display_name": "Python 3 (ipykernel)",
   "language": "python",
   "name": "python3"
  },
  "language_info": {
   "codemirror_mode": {
    "name": "ipython",
    "version": 3
   },
   "file_extension": ".py",
   "mimetype": "text/x-python",
   "name": "python",
   "nbconvert_exporter": "python",
   "pygments_lexer": "ipython3",
   "version": "3.11.11"
  }
 },
 "nbformat": 4,
 "nbformat_minor": 5
}
