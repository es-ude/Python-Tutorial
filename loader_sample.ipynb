{
 "cells": [
  {
   "cell_type": "markdown",
   "id": "260c9da3-5948-45dd-987b-18c9426044b4",
   "metadata": {},
   "source": [
    "Nachdem wir die grundlegende Einführung in Python abgeschlossen haben, können wir nun versuchen, eine einfache Klasse zum laden von Konfigurationsdateien zu implementieren, welche das eben gezeigte anwendet.\n",
    "\n",
    "Wir wollen eine Schnittstellenklasse hinzufügen, die die grundlegenden Methoden `load` (Daten aus der Quelle lesen) und `save` (Updates in die Quelle schreiben) bereitstellt. Die Implementierungen für das Interface dieser Schnittstelle wird in zwei verschiedenen Klassen implementiert, welche darauf abzielen, eine YAML- und JSON-basierte Konfiguration zu laden, die schließlich identische dictionaries mit den Konfigurationswerten bereitstellen wird.\n",
    "\n",
    "---\n",
    "\n",
    "_Now that we have completed the basic introduction to Python, we can try to implement a simple class for loading configuration files that applies what we have just shown._\n",
    "\n",
    "_We want to add an interface class that provides the basic methods `load` (read data from the source) and `save` (write updates to the source)._ \n",
    "_The implementations for the interface of this interface will be implemented in two different classes that aim to load a YAML and JSON based configuration that will eventually provide identical dictionaries with the configuration values._"
   ]
  },
  {
   "cell_type": "markdown",
   "id": "a8972522-f58c-4c81-82c2-95d43c1bb38c",
   "metadata": {},
   "source": [
    "## Interface Klasse _Interface Class_\n",
    "\n",
    "Für diese Aufgabe müssen wir zunächst die Interface-Klasse definieren. Hierfür müssen wir\n",
    "1. Die Klasse `ABC` und die Methode `abstractmethod` aus dem Paket `abc` verfügbar machen\n",
    "2. Den Typ `Any` aus dem Paket `typing` verfügbar machen\n",
    "3. Die Schnittstellenklasse `LoaderInterface` definieren\n",
    "4. Hinzufügen der abstrakten Methode `load(self, source) -> dict[str, Any] | None`\n",
    "5. Hinzufügen der abstrakten Methode `save(self, source, config: dict[str, Any]) -> None`\n",
    "\n",
    "---\n",
    "\n",
    "_For this task, we must first define the interface class. To do this, we must_\n",
    "1. _Make the class `ABC` and the method `abstractmethod` from the package `abc` available_\n",
    "2. _Make the type `Any` available from the package `typing`_\n",
    "3. _Define the interface class `LoaderInterface`_\n",
    "4. _Add the abstract method `load(self, source) -> dict[str, Any] | None`_\n",
    "5. _Add the abstract method `save(self, source, config: dict[str, Any]) -> None`_"
   ]
  },
  {
   "cell_type": "code",
   "execution_count": 104,
   "id": "89968951-0c97-4a17-acdd-b6d1e680e24b",
   "metadata": {},
   "outputs": [],
   "source": [
    "# Hier können sie die Lösung einfügen (Insert your solution here)\n",
    "from abc import ..."
   ]
  },
  {
   "cell_type": "markdown",
   "id": "3c916463-2d40-413d-a5c0-a616a3ae3a1e",
   "metadata": {},
   "source": [
    "## YAML Implementierung _YAML Implementation_\n",
    "\n",
    "Diese Klasse stellt ein einfaches Beispiel für die Implementierung des Loader Interfaces dar.\n",
    "Sie dient als Beispiel für ihre JSON implementierung.\n",
    "\n",
    "_This class is a simple example of the implementation of the loader interface._\n",
    "_It serves as an example for its JSON implementation._"
   ]
  },
  {
   "cell_type": "code",
   "execution_count": 110,
   "id": "89dbaac8-d370-4c1a-b93b-a0677ed6ae7f",
   "metadata": {},
   "outputs": [],
   "source": [
    "import yaml\n",
    "\n",
    "class YAMLLoader(LoaderInterface):\n",
    "    \n",
    "    def load(self, source:str) -> dict[str, Any] | None:\n",
    "        print(\"ENTERED\")\n",
    "        try:\n",
    "            with open(source, \"r\") as config_file:\n",
    "                print(\"OPEN\")\n",
    "                config: dict[str, Any] = yaml.safe_load(config_file)\n",
    "            return config\n",
    "        except FileNotFoundError:\n",
    "            return None\n",
    "\n",
    "    def save(self, source: str, config: dict[str, Any]) -> None:\n",
    "        try:\n",
    "            with open(source, \"w\") as config_file:\n",
    "                yaml.dump(config, config_file)\n",
    "            return config\n",
    "        except FileNotFoundError as e:\n",
    "            print(e)        "
   ]
  },
  {
   "cell_type": "markdown",
   "id": "5369f666-a4e3-49c6-8f68-748b3ac4b404",
   "metadata": {},
   "source": [
    "## JSON Implementierung _JSON Implementation_\n",
    "\n",
    "1. Importiere sie die `json` Bibliothek\n",
    "2. Definieren Sie die Klasse `JSONLoader`, die von der Klasse `LoaderInterface` erbt\n",
    "3. Implementieren Sie die Funktion `load` analog zum YAML-Beispiel\n",
    "    - Die passende Methode der `json` Bibliothek lautet `load(...)`\n",
    "5. Implementieren Sie die Funktion `save` analog zum YAML-Beispiel\n",
    "    - Die passende Methode der `json` Bibliothek lautet `dump(...)`\n",
    "  \n",
    "---\n",
    "\n",
    "1. _Import the `json` library_\n",
    "2. _Define the class `JSONLoader`, which inherits from the class `LoaderInterface`_\n",
    "3. i_Iplement the function `load` analogous to the YAML example_\n",
    "    - _The appropriate method of the `json` library is `load(...)`_\n",
    "5. _Implement the `save` function analogous to the YAML example_\n",
    "    - _The appropriate method of the `json` library is `dump(...)`_"
   ]
  },
  {
   "cell_type": "code",
   "execution_count": 111,
   "id": "2b30fc6e-a8e3-49e3-b104-96d459dbb483",
   "metadata": {},
   "outputs": [],
   "source": [
    "# Hier können sie die Lösung einfügen (Insert your solution here)\n",
    "import ...    "
   ]
  },
  {
   "cell_type": "markdown",
   "id": "32d3f6c8-9a56-41e2-b117-dec311927da9",
   "metadata": {},
   "source": [
    "## Tests\n",
    "\n",
    "Im Anschluss sind einige Tests welche die Funktionailät des Codes testen sollen.\n",
    "Hierfür nutzen wir das `pytest` Framework. \n",
    "\n",
    "Vorgehensweise:\n",
    "1. Importieren der `ipytest` und `pytest` Bibliothek\n",
    "2. Konfigurieren von `pytest` für die Ausführung von Tests\n",
    "3. Schreiben der Tests\n",
    "4. Ausführen der Tests\n",
    "\n",
    "Fügen sie gerne weitere Tests hinzu!\n",
    "\n",
    "---\n",
    "\n",
    "_Afterwards there are some tests to test the functionality of the code._\n",
    "_For this we use the `pytest` framework._\n",
    "\n",
    "_Procedure:_\n",
    "1. _Import the `pytest` and `pytest` library_\n",
    "2. _Configure `pytest` for the execution of tests_\n",
    "3. _Write the tests_\n",
    "4. _Execute the tests_\n",
    "\n",
    "_Feel free to add more tests!_"
   ]
  },
  {
   "cell_type": "code",
   "execution_count": 118,
   "id": "2cf37b07-7c42-4a56-9aa7-2f1d81ff50a7",
   "metadata": {},
   "outputs": [],
   "source": [
    "import pytest\n",
    "import ipytest"
   ]
  },
  {
   "cell_type": "code",
   "execution_count": 119,
   "id": "3961f39f-6723-455f-9fc5-0068bbd85068",
   "metadata": {},
   "outputs": [],
   "source": [
    "ipytest.autoconfig()"
   ]
  },
  {
   "cell_type": "code",
   "execution_count": 120,
   "id": "2a8fff4d-058d-4b65-87aa-cdbc291e50e4",
   "metadata": {},
   "outputs": [],
   "source": [
    "ipytest.clean()\n",
    "\n",
    "# region TEST INTERFACE\n",
    "\n",
    "def test_interface_cant_be_instaniated():\n",
    "    with pytest.raises(TypeError, match=\"Can't instantiate abstract class\"):\n",
    "        LoaderInterface()\n",
    "        \n",
    "def test_interface_has_abstractmethod_load():\n",
    "    abstractmethods = list(LoaderInterface.__dict__[\"__abstractmethods__\"])\n",
    "    assert \"load\" in abstractmethods\n",
    "\n",
    "def test_interface_has_abstractmethod_save():\n",
    "    abstractmethods = list(LoaderInterface.__dict__[\"__abstractmethods__\"])\n",
    "    assert \"save\" in abstractmethods\n",
    "\n",
    "# endregion TEST INTERFACE\n",
    "\n",
    "# region TEST YAMLLoader\n",
    "\n",
    "def test_yamlloader_can_be_instaniated():\n",
    "    YAMLLoader()\n",
    "        \n",
    "def test_yamlloader_has_method_load():\n",
    "    assert \"load\" in YAMLLoader.__dict__\n",
    "\n",
    "def test_yamlloader_has_method_save():\n",
    "    assert \"save\" in YAMLLoader.__dict__\n",
    "\n",
    "# endregion TEST YAMLLoader\n",
    "\n",
    "# region TEST JSONLoader\n",
    "\n",
    "def test_jsonloader_can_be_instaniated():\n",
    "    JSONLoader()\n",
    "        \n",
    "def test_jsonloader_has_method_load():\n",
    "    assert \"load\" in JSONLoader.__dict__\n",
    "\n",
    "def test_jsonloader_has_method_save():\n",
    "    assert \"save\" in JSONLoader.__dict__\n",
    "\n",
    "# endregion TEST JSONLoader"
   ]
  },
  {
   "cell_type": "code",
   "execution_count": 121,
   "id": "0b28d0dd-a2d9-4f58-8f77-1794509d073d",
   "metadata": {},
   "outputs": [
    {
     "name": "stdout",
     "output_type": "stream",
     "text": [
      "\u001b[1m======================================= test session starts ========================================\u001b[0m\n",
      "platform linux -- Python 3.11.11, pytest-8.3.5, pluggy-1.6.0 -- /home/federl_david/Repositories/ZaKID/test-binder/.venv/bin/python3\n",
      "cachedir: .pytest_cache\n",
      "rootdir: /home/federl_david/Repositories/ZaKID/test-binder\n",
      "configfile: pyproject.toml\n",
      "plugins: anyio-4.9.0, mock-3.14.1\n",
      "\u001b[1mcollecting ... \u001b[0mcollected 9 items\n",
      "\n",
      "t_3b90d0ce4a8e49f5ac1806f203f221de.py::test_interface_cant_be_instaniated \u001b[32mPASSED\u001b[0m\u001b[32m             [ 11%]\u001b[0m\n",
      "t_3b90d0ce4a8e49f5ac1806f203f221de.py::test_interface_has_abstractmethod_load \u001b[32mPASSED\u001b[0m\u001b[32m         [ 22%]\u001b[0m\n",
      "t_3b90d0ce4a8e49f5ac1806f203f221de.py::test_interface_has_abstractmethod_save \u001b[32mPASSED\u001b[0m\u001b[32m         [ 33%]\u001b[0m\n",
      "t_3b90d0ce4a8e49f5ac1806f203f221de.py::test_yamlloader_can_be_instaniated \u001b[32mPASSED\u001b[0m\u001b[32m             [ 44%]\u001b[0m\n",
      "t_3b90d0ce4a8e49f5ac1806f203f221de.py::test_yamlloader_has_method_load \u001b[32mPASSED\u001b[0m\u001b[32m                [ 55%]\u001b[0m\n",
      "t_3b90d0ce4a8e49f5ac1806f203f221de.py::test_yamlloader_has_method_save \u001b[32mPASSED\u001b[0m\u001b[32m                [ 66%]\u001b[0m\n",
      "t_3b90d0ce4a8e49f5ac1806f203f221de.py::test_jsonloader_can_be_instaniated \u001b[32mPASSED\u001b[0m\u001b[32m             [ 77%]\u001b[0m\n",
      "t_3b90d0ce4a8e49f5ac1806f203f221de.py::test_jsonloader_has_method_load \u001b[32mPASSED\u001b[0m\u001b[32m                [ 88%]\u001b[0m\n",
      "t_3b90d0ce4a8e49f5ac1806f203f221de.py::test_jsonloader_has_method_save \u001b[32mPASSED\u001b[0m\u001b[32m                [100%]\u001b[0m\n",
      "\n",
      "\u001b[32m======================================== \u001b[32m\u001b[1m9 passed\u001b[0m\u001b[32m in 0.01s\u001b[0m\u001b[32m =========================================\u001b[0m\n"
     ]
    },
    {
     "data": {
      "text/plain": [
       "<ExitCode.OK: 0>"
      ]
     },
     "execution_count": 121,
     "metadata": {},
     "output_type": "execute_result"
    }
   ],
   "source": [
    "ipytest.run(\"-vv\")"
   ]
  }
 ],
 "metadata": {
  "kernelspec": {
   "display_name": "Python 3 (ipykernel)",
   "language": "python",
   "name": "python3"
  },
  "language_info": {
   "codemirror_mode": {
    "name": "ipython",
    "version": 3
   },
   "file_extension": ".py",
   "mimetype": "text/x-python",
   "name": "python",
   "nbconvert_exporter": "python",
   "pygments_lexer": "ipython3",
   "version": "3.11.11"
  }
 },
 "nbformat": 4,
 "nbformat_minor": 5
}
